{
 "cells": [
  {
   "cell_type": "code",
   "execution_count": 26,
   "metadata": {},
   "outputs": [],
   "source": [
    "import cityflow\n",
    "eng = cityflow.Engine(config_file='examples/config.json', thread_num=1)\n",
    "for i in range(1000):\n",
    "    eng.next_step()"
   ]
  },
  {
   "cell_type": "code",
   "execution_count": 10,
   "metadata": {},
   "outputs": [
    {
     "name": "stdout",
     "output_type": "stream",
     "text": [
      "vehicle count: 24\n",
      "\n",
      "vehicle id: ['flow_10_1', 'flow_11_0', 'flow_3_0', 'flow_0_0', 'flow_2_0', 'flow_7_1', 'flow_5_0', 'flow_1_0', 'flow_0_1', 'flow_5_1', 'flow_10_0', 'flow_3_1', 'flow_1_1', 'flow_7_0', 'flow_9_1', 'flow_8_0', 'flow_2_1', 'flow_6_1', 'flow_8_1', 'flow_9_0', 'flow_11_1', 'flow_4_0', 'flow_6_0', 'flow_4_1']\n",
      "\n",
      "vehicle id: ['flow_10_1', 'flow_11_0', 'flow_3_0', 'flow_0_0', 'flow_2_0', 'flow_7_1', 'flow_5_0', 'flow_1_0', 'flow_0_1', 'flow_5_1', 'flow_10_0', 'flow_3_1', 'flow_1_1', 'flow_7_0', 'flow_9_1', 'flow_8_0', 'flow_2_1', 'flow_6_1', 'flow_8_1', 'flow_9_0', 'flow_11_1', 'flow_4_0', 'flow_6_0', 'flow_4_1']\n",
      "\n",
      "lane vehicle count: {'road_0_1_0_0': 0, 'road_0_1_0_1': 2, 'road_0_1_0_2': 1, 'road_0_1_0_3': 0, 'road_0_1_0_4': 1, 'road_0_1_0_5': 2, 'road_0_1_0_6': 0, 'road_1_0_1_0': 0, 'road_1_0_1_1': 2, 'road_1_0_1_2': 0, 'road_1_0_1_3': 1, 'road_1_0_1_4': 1, 'road_1_0_1_5': 1, 'road_1_0_1_6': 1, 'road_1_1_0_0': 0, 'road_1_1_0_1': 0, 'road_1_1_0_2': 0, 'road_1_1_0_3': 0, 'road_1_1_0_4': 0, 'road_1_1_0_5': 0, 'road_1_1_0_6': 0, 'road_1_1_1_0': 0, 'road_1_1_1_1': 0, 'road_1_1_1_2': 0, 'road_1_1_1_3': 0, 'road_1_1_1_4': 0, 'road_1_1_1_5': 0, 'road_1_1_1_6': 0, 'road_1_1_2_0': 0, 'road_1_1_2_1': 0, 'road_1_1_2_2': 0, 'road_1_1_2_3': 0, 'road_1_1_2_4': 0, 'road_1_1_2_5': 0, 'road_1_1_2_6': 0, 'road_1_1_3_0': 0, 'road_1_1_3_1': 0, 'road_1_1_3_2': 0, 'road_1_1_3_3': 0, 'road_1_1_3_4': 0, 'road_1_1_3_5': 0, 'road_1_1_3_6': 0, 'road_1_2_3_0': 0, 'road_1_2_3_1': 2, 'road_1_2_3_2': 1, 'road_1_2_3_3': 1, 'road_1_2_3_4': 0, 'road_1_2_3_5': 0, 'road_1_2_3_6': 2, 'road_2_1_2_0': 2, 'road_2_1_2_1': 0, 'road_2_1_2_2': 0, 'road_2_1_2_3': 2, 'road_2_1_2_4': 0, 'road_2_1_2_5': 1, 'road_2_1_2_6': 1}\n",
      "\n",
      "lane vehicle id: {'road_0_1_0_0': [], 'road_0_1_0_1': ['flow_5_0', 'flow_5_1'], 'road_0_1_0_2': ['flow_0_1'], 'road_0_1_0_3': [], 'road_0_1_0_4': ['flow_0_0'], 'road_0_1_0_5': ['flow_8_0', 'flow_8_1'], 'road_0_1_0_6': [], 'road_1_0_1_0': [], 'road_1_0_1_1': ['flow_11_0', 'flow_11_1'], 'road_1_0_1_2': [], 'road_1_0_1_3': ['flow_2_1'], 'road_1_0_1_4': ['flow_2_0'], 'road_1_0_1_5': ['flow_4_1'], 'road_1_0_1_6': ['flow_4_0'], 'road_1_1_0_0': [], 'road_1_1_0_1': [], 'road_1_1_0_2': [], 'road_1_1_0_3': [], 'road_1_1_0_4': [], 'road_1_1_0_5': [], 'road_1_1_0_6': [], 'road_1_1_1_0': [], 'road_1_1_1_1': [], 'road_1_1_1_2': [], 'road_1_1_1_3': [], 'road_1_1_1_4': [], 'road_1_1_1_5': [], 'road_1_1_1_6': [], 'road_1_1_2_0': [], 'road_1_1_2_1': [], 'road_1_1_2_2': [], 'road_1_1_2_3': [], 'road_1_1_2_4': [], 'road_1_1_2_5': [], 'road_1_1_2_6': [], 'road_1_1_3_0': [], 'road_1_1_3_1': [], 'road_1_1_3_2': [], 'road_1_1_3_3': [], 'road_1_1_3_4': [], 'road_1_1_3_5': [], 'road_1_1_3_6': [], 'road_1_2_3_0': [], 'road_1_2_3_1': ['flow_9_0', 'flow_9_1'], 'road_1_2_3_2': ['flow_3_0'], 'road_1_2_3_3': ['flow_3_1'], 'road_1_2_3_4': [], 'road_1_2_3_5': [], 'road_1_2_3_6': ['flow_7_0', 'flow_7_1'], 'road_2_1_2_0': ['flow_6_0', 'flow_6_1'], 'road_2_1_2_1': [], 'road_2_1_2_2': [], 'road_2_1_2_3': ['flow_1_0', 'flow_1_1'], 'road_2_1_2_4': [], 'road_2_1_2_5': ['flow_10_1'], 'road_2_1_2_6': ['flow_10_0']}\n",
      "\n",
      "lane waiting vehicle count: {'road_0_1_0_0': 0, 'road_0_1_0_1': 0, 'road_0_1_0_2': 0, 'road_0_1_0_3': 0, 'road_0_1_0_4': 0, 'road_0_1_0_5': 0, 'road_0_1_0_6': 0, 'road_1_0_1_0': 0, 'road_1_0_1_1': 0, 'road_1_0_1_2': 0, 'road_1_0_1_3': 0, 'road_1_0_1_4': 0, 'road_1_0_1_5': 0, 'road_1_0_1_6': 0, 'road_1_1_0_0': 0, 'road_1_1_0_1': 0, 'road_1_1_0_2': 0, 'road_1_1_0_3': 0, 'road_1_1_0_4': 0, 'road_1_1_0_5': 0, 'road_1_1_0_6': 0, 'road_1_1_1_0': 0, 'road_1_1_1_1': 0, 'road_1_1_1_2': 0, 'road_1_1_1_3': 0, 'road_1_1_1_4': 0, 'road_1_1_1_5': 0, 'road_1_1_1_6': 0, 'road_1_1_2_0': 0, 'road_1_1_2_1': 0, 'road_1_1_2_2': 0, 'road_1_1_2_3': 0, 'road_1_1_2_4': 0, 'road_1_1_2_5': 0, 'road_1_1_2_6': 0, 'road_1_1_3_0': 0, 'road_1_1_3_1': 0, 'road_1_1_3_2': 0, 'road_1_1_3_3': 0, 'road_1_1_3_4': 0, 'road_1_1_3_5': 0, 'road_1_1_3_6': 0, 'road_1_2_3_0': 0, 'road_1_2_3_1': 0, 'road_1_2_3_2': 0, 'road_1_2_3_3': 0, 'road_1_2_3_4': 0, 'road_1_2_3_5': 0, 'road_1_2_3_6': 0, 'road_2_1_2_0': 0, 'road_2_1_2_1': 0, 'road_2_1_2_2': 0, 'road_2_1_2_3': 0, 'road_2_1_2_4': 0, 'road_2_1_2_5': 0, 'road_2_1_2_6': 0}\n"
     ]
    }
   ],
   "source": [
    "print('vehicle count:',eng.get_vehicle_count())\n",
    "print('\\nvehicle id:',eng.get_vehicles(include_waiting=False))\n",
    "print('\\nvehicle id:',eng.get_vehicles(include_waiting=True))\n",
    "print('\\nlane vehicle count:',eng.get_lane_vehicle_count())\n",
    "print('\\nlane vehicle id:',eng.get_lane_vehicles())\n",
    "print('\\nlane waiting vehicle count:',eng.get_lane_waiting_vehicle_count())"
   ]
  },
  {
   "cell_type": "code",
   "execution_count": 14,
   "metadata": {},
   "outputs": [
    {
     "name": "stdout",
     "output_type": "stream",
     "text": [
      "vehicle info: {'distance': '25.000000', 'drivable': 'road_0_1_0_2', 'intersection': 'intersection_1_1', 'road': 'road_0_1_0', 'route': 'road_0_1_0 road_1_1_0 ', 'running': '1', 'speed': '10.000000'}\n"
     ]
    }
   ],
   "source": [
    "print('vehicle info:',eng.get_vehicle_info('flow_0_1'))"
   ]
  },
  {
   "cell_type": "code",
   "execution_count": 16,
   "metadata": {},
   "outputs": [
    {
     "name": "stdout",
     "output_type": "stream",
     "text": [
      "vehicle speed: {'flow_0_0': 16.67, 'flow_0_1': 10.0, 'flow_10_0': 16.67, 'flow_10_1': 10.0, 'flow_11_0': 16.67, 'flow_11_1': 10.0, 'flow_1_0': 16.67, 'flow_1_1': 10.0, 'flow_2_0': 16.67, 'flow_2_1': 10.0, 'flow_3_0': 16.67, 'flow_3_1': 10.0, 'flow_4_0': 16.67, 'flow_4_1': 10.0, 'flow_5_0': 16.67, 'flow_5_1': 10.0, 'flow_6_0': 16.67, 'flow_6_1': 10.0, 'flow_7_0': 16.67, 'flow_7_1': 10.0, 'flow_8_0': 16.67, 'flow_8_1': 10.0, 'flow_9_0': 16.67, 'flow_9_1': 10.0}\n",
      "vehicle distance: {'flow_0_0': 97.00500000000001, 'flow_0_1': 25.0, 'flow_10_0': 97.00500000000001, 'flow_10_1': 25.0, 'flow_11_0': 97.00500000000001, 'flow_11_1': 25.0, 'flow_1_0': 97.00500000000001, 'flow_1_1': 25.0, 'flow_2_0': 97.00500000000001, 'flow_2_1': 25.0, 'flow_3_0': 97.00500000000001, 'flow_3_1': 25.0, 'flow_4_0': 97.00500000000001, 'flow_4_1': 25.0, 'flow_5_0': 97.00500000000001, 'flow_5_1': 25.0, 'flow_6_0': 97.00500000000001, 'flow_6_1': 25.0, 'flow_7_0': 97.00500000000001, 'flow_7_1': 25.0, 'flow_8_0': 97.00500000000001, 'flow_8_1': 25.0, 'flow_9_0': 97.00500000000001, 'flow_9_1': 25.0}\n",
      "vehicle leader: \n",
      "current time: 10.0\n",
      "average travel time: 7.5\n"
     ]
    }
   ],
   "source": [
    "print('vehicle speed:',eng.get_vehicle_speed())\n",
    "print('vehicle distance:',eng.get_vehicle_distance())\n",
    "print('vehicle leader:',eng.get_leader('flow_0_1'))\n",
    "print('current time:',eng.get_current_time())\n",
    "print('average travel time:',eng.get_average_travel_time())"
   ]
  },
  {
   "cell_type": "code",
   "execution_count": 22,
   "metadata": {},
   "outputs": [
    {
     "data": {
      "text/plain": [
       "<cityflow.Archive at 0x7f90f4103530>"
      ]
     },
     "execution_count": 22,
     "metadata": {},
     "output_type": "execute_result"
    }
   ],
   "source": [
    "# set_tl_phase(intersection_id, phase_id)\n",
    "# set_vehicle_speed(vehicle_id, speed)\n",
    "# reset(seed=False)\n",
    "# set_random_seed(seed)\n",
    "# set_vehicle_route(vehicle_id, route)"
   ]
  },
  {
   "cell_type": "code",
   "execution_count": 23,
   "metadata": {},
   "outputs": [],
   "source": [
    "archive = eng.snapshot() # create an archive object\n",
    "archive.dump(\"save.json\") # if you want to save the snapshot to a file\n",
    "\n",
    "# eng.load(archive)\n",
    "\n",
    "# eng.load_from_file(\"save.json\")"
   ]
  },
  {
   "cell_type": "code",
   "execution_count": null,
   "metadata": {},
   "outputs": [],
   "source": [
    "# set_replay_file(replay_file)"
   ]
  },
  {
   "cell_type": "code",
   "execution_count": null,
   "metadata": {},
   "outputs": [],
   "source": [
    "# python converter.py --sumonet atlanta_sumo.net.xml --cityflownet atlanta_cityflow.json\n"
   ]
  }
 ],
 "metadata": {
  "kernelspec": {
   "display_name": "Python 3",
   "language": "python",
   "name": "python3"
  },
  "language_info": {
   "codemirror_mode": {
    "name": "ipython",
    "version": 3
   },
   "file_extension": ".py",
   "mimetype": "text/x-python",
   "name": "python",
   "nbconvert_exporter": "python",
   "pygments_lexer": "ipython3",
   "version": "3.7.4"
  }
 },
 "nbformat": 4,
 "nbformat_minor": 4
}
