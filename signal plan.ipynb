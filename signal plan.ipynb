{
 "cells": [
  {
   "cell_type": "code",
   "execution_count": 1,
   "metadata": {},
   "outputs": [],
   "source": [
    "import cityflow\n",
    "import math\n",
    "import pandas as pd\n",
    "import os\n",
    "import argparse\n",
    "\n",
    "def args_parser():\n",
    "    parser = argparse.ArgumentParser()\n",
    "    parser.add_argument('--scenario', type=str)\n",
    "    \n",
    "    #训练参数\n",
    "    parser.add_argument('--max_episode', type=int, default=5000)\n",
    "    parser.add_argument('--max_step', type=int, default=200)\n",
    "    parser.add_argument('--max_buffer', type=int, default=10000)\n",
    "    parser.add_argument('--max_total_reward', type=float)\n",
    "\n",
    "    args = parser.parse_args(args=[])\n",
    "    return args"
   ]
  },
  {
   "cell_type": "code",
   "execution_count": 2,
   "metadata": {},
   "outputs": [
    {
     "name": "stdout",
     "output_type": "stream",
     "text": [
      "Time: 1.0, Phase: 1, lane_vehicle_count: {'road_0_1_0_0': 0, 'road_0_1_0_1': 1, 'road_0_1_0_2': 0, 'road_0_1_0_3': 0, 'road_0_1_0_4': 1, 'road_0_1_0_5': 1, 'road_0_1_0_6': 0, 'road_1_0_1_0': 0, 'road_1_0_1_1': 1, 'road_1_0_1_2': 0, 'road_1_0_1_3': 0, 'road_1_0_1_4': 1, 'road_1_0_1_5': 0, 'road_1_0_1_6': 1, 'road_1_1_0_0': 0, 'road_1_1_0_1': 0, 'road_1_1_0_2': 0, 'road_1_1_0_3': 0, 'road_1_1_0_4': 0, 'road_1_1_0_5': 0, 'road_1_1_0_6': 0, 'road_1_1_1_0': 0, 'road_1_1_1_1': 0, 'road_1_1_1_2': 0, 'road_1_1_1_3': 0, 'road_1_1_1_4': 0, 'road_1_1_1_5': 0, 'road_1_1_1_6': 0, 'road_1_1_2_0': 0, 'road_1_1_2_1': 0, 'road_1_1_2_2': 0, 'road_1_1_2_3': 0, 'road_1_1_2_4': 0, 'road_1_1_2_5': 0, 'road_1_1_2_6': 0, 'road_1_1_3_0': 0, 'road_1_1_3_1': 0, 'road_1_1_3_2': 0, 'road_1_1_3_3': 0, 'road_1_1_3_4': 0, 'road_1_1_3_5': 0, 'road_1_1_3_6': 0, 'road_1_2_3_0': 0, 'road_1_2_3_1': 1, 'road_1_2_3_2': 1, 'road_1_2_3_3': 0, 'road_1_2_3_4': 0, 'road_1_2_3_5': 0, 'road_1_2_3_6': 1, 'road_2_1_2_0': 1, 'road_2_1_2_1': 0, 'road_2_1_2_2': 0, 'road_2_1_2_3': 1, 'road_2_1_2_4': 0, 'road_2_1_2_5': 0, 'road_2_1_2_6': 1}\n",
      "Time: 101.0, Phase: 0, lane_vehicle_count: {'road_0_1_0_0': 3, 'road_0_1_0_1': 9, 'road_0_1_0_2': 4, 'road_0_1_0_3': 1, 'road_0_1_0_4': 5, 'road_0_1_0_5': 3, 'road_0_1_0_6': 2, 'road_1_0_1_0': 8, 'road_1_0_1_1': 13, 'road_1_0_1_2': 6, 'road_1_0_1_3': 9, 'road_1_0_1_4': 6, 'road_1_0_1_5': 2, 'road_1_0_1_6': 3, 'road_1_1_0_0': 0, 'road_1_1_0_1': 0, 'road_1_1_0_2': 0, 'road_1_1_0_3': 0, 'road_1_1_0_4': 0, 'road_1_1_0_5': 2, 'road_1_1_0_6': 2, 'road_1_1_1_0': 0, 'road_1_1_1_1': 0, 'road_1_1_1_2': 0, 'road_1_1_1_3': 0, 'road_1_1_1_4': 0, 'road_1_1_1_5': 1, 'road_1_1_1_6': 3, 'road_1_1_2_0': 0, 'road_1_1_2_1': 0, 'road_1_1_2_2': 0, 'road_1_1_2_3': 0, 'road_1_1_2_4': 0, 'road_1_1_2_5': 3, 'road_1_1_2_6': 0, 'road_1_1_3_0': 0, 'road_1_1_3_1': 0, 'road_1_1_3_2': 0, 'road_1_1_3_3': 0, 'road_1_1_3_4': 0, 'road_1_1_3_5': 3, 'road_1_1_3_6': 1, 'road_1_2_3_0': 10, 'road_1_2_3_1': 11, 'road_1_2_3_2': 10, 'road_1_2_3_3': 7, 'road_1_2_3_4': 4, 'road_1_2_3_5': 1, 'road_1_2_3_6': 4, 'road_2_1_2_0': 9, 'road_2_1_2_1': 3, 'road_2_1_2_2': 1, 'road_2_1_2_3': 2, 'road_2_1_2_4': 8, 'road_2_1_2_5': 2, 'road_2_1_2_6': 3}\n"
     ]
    }
   ],
   "source": [
    "args = args_parser()\n",
    "args.scenario = 'hangzhou_1x1_bc-tyc_18041607_1h'\n",
    "num_step = args.max_step\n",
    "eng = cityflow.Engine(config_file='examples/config_control.json', thread_num=1)\n",
    "roadnetFile = \"examples//data/{}/roadnet.json\".format(args.scenario)\n",
    "flowFile = \"examples//data/{}/flow.json\".format(args.scenario)\n",
    "planFile = \"examples/data/{}/signal_plan_template.txt\".format(args.scenario)\n",
    "plan = pd.read_csv(planFile, sep=\"\\t\", header=0, dtype=int)\n",
    "intersection_id = plan.columns[0]\n",
    "\n",
    "for step in range(num_step):\n",
    "    phase = int(plan.loc[step])\n",
    "    eng.set_tl_phase(intersection_id, phase)  # set traffic light of intersection_id to phase (phases of intersection is defined in roadnetFile)\n",
    "    eng.next_step()\n",
    "\n",
    "    current_time = eng.get_current_time()                      # return a double, time past in seconds\n",
    "    lane_vehicle_count = eng.get_lane_vehicle_count()                # return a dict, {lane_id: lane_count, ...}\n",
    "    lane_waiting_vehicle_count = eng.get_lane_waiting_vehicle_count()        # return a dict, {lane_id: lane_waiting_count, ...}\n",
    "    lane_vehicles = eng.get_lane_vehicles()                     # return a dict, {lane_id: [vehicle1_id, vehicle2_id, ...], ...}\n",
    "    vehicle_speed = eng.get_vehicle_speed()                     # return a dict, {vehicle_id: vehicle_speed, ...}\n",
    "    vehicle_distance = eng.get_vehicle_distance()                  # return a dict, {vehicle_id: vehicle_distance, ...}\n",
    "\n",
    "    if step % 100 == 0:\n",
    "        print(\"Time: {}, Phase: {}, lane_vehicle_count: {}\".format(current_time, phase, lane_vehicle_count))"
   ]
  },
  {
   "cell_type": "code",
   "execution_count": null,
   "metadata": {},
   "outputs": [],
   "source": []
  }
 ],
 "metadata": {
  "kernelspec": {
   "display_name": "Python 3",
   "language": "python",
   "name": "python3"
  },
  "language_info": {
   "codemirror_mode": {
    "name": "ipython",
    "version": 3
   },
   "file_extension": ".py",
   "mimetype": "text/x-python",
   "name": "python",
   "nbconvert_exporter": "python",
   "pygments_lexer": "ipython3",
   "version": "3.7.4"
  }
 },
 "nbformat": 4,
 "nbformat_minor": 4
}
